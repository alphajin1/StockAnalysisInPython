{
 "cells": [
  {
   "cell_type": "code",
   "execution_count": 1,
   "id": "542d8c8f-20af-4c85-8a39-0d70583d48f1",
   "metadata": {},
   "outputs": [],
   "source": [
    "from pandas_datareader import data as pdr\n",
    "import yfinance as yf\n",
    "yf.pdr_override()"
   ]
  },
  {
   "cell_type": "code",
   "execution_count": 2,
   "id": "f0a4f9b0-e99b-4860-ae13-d353cad88084",
   "metadata": {},
   "outputs": [
    {
     "name": "stdout",
     "output_type": "stream",
     "text": [
      "[*********************100%***********************]  1 of 1 completed\n",
      "[*********************100%***********************]  1 of 1 completed\n"
     ]
    }
   ],
   "source": [
    "sec = pdr.get_data_yahoo('005930.KS', start='2018-05-04')\n",
    "sec_dpc = (sec['Close']-sec['Close'].shift(1)) / sec['Close'].shift(1) * 100\n",
    "sec_dpc.iloc[0] = 0 # 일간 변동률의 첫 번째 값인 NaN을 0으로 변경한다.\n",
    "sec_dpc_cp = ((100+sec_dpc)/100).cumprod()*100-100 # 일간 변동률 누적곱 계산\n",
    "\n",
    "msft = pdr.get_data_yahoo('MSFT', start='2018-05-04')\n",
    "msft_dpc = (msft['Close'] / msft['Close'].shift(1) -1) * 100\n",
    "msft_dpc.iloc[0] = 0\n",
    "msft_dpc_cp = ((100+msft_dpc)/100).cumprod()*100-100"
   ]
  },
  {
   "cell_type": "code",
   "execution_count": 3,
   "id": "845a846e-a53c-483d-84a5-a651f7e85841",
   "metadata": {},
   "outputs": [
    {
     "data": {
      "text/html": [
       "<div>\n",
       "<style scoped>\n",
       "    .dataframe tbody tr th:only-of-type {\n",
       "        vertical-align: middle;\n",
       "    }\n",
       "\n",
       "    .dataframe tbody tr th {\n",
       "        vertical-align: top;\n",
       "    }\n",
       "\n",
       "    .dataframe thead th {\n",
       "        text-align: right;\n",
       "    }\n",
       "</style>\n",
       "<table border=\"1\" class=\"dataframe\">\n",
       "  <thead>\n",
       "    <tr style=\"text-align: right;\">\n",
       "      <th></th>\n",
       "      <th>Open</th>\n",
       "      <th>High</th>\n",
       "      <th>Low</th>\n",
       "      <th>Close</th>\n",
       "      <th>Adj Close</th>\n",
       "      <th>Volume</th>\n",
       "    </tr>\n",
       "    <tr>\n",
       "      <th>Date</th>\n",
       "      <th></th>\n",
       "      <th></th>\n",
       "      <th></th>\n",
       "      <th></th>\n",
       "      <th></th>\n",
       "      <th></th>\n",
       "    </tr>\n",
       "  </thead>\n",
       "  <tbody>\n",
       "    <tr>\n",
       "      <th>2018-05-04</th>\n",
       "      <td>53000.0</td>\n",
       "      <td>53900.0</td>\n",
       "      <td>51800.0</td>\n",
       "      <td>51900.0</td>\n",
       "      <td>46191.066406</td>\n",
       "      <td>39565391</td>\n",
       "    </tr>\n",
       "    <tr>\n",
       "      <th>2018-05-08</th>\n",
       "      <td>52600.0</td>\n",
       "      <td>53200.0</td>\n",
       "      <td>51900.0</td>\n",
       "      <td>52600.0</td>\n",
       "      <td>46814.070312</td>\n",
       "      <td>23104720</td>\n",
       "    </tr>\n",
       "    <tr>\n",
       "      <th>2018-05-09</th>\n",
       "      <td>52600.0</td>\n",
       "      <td>52800.0</td>\n",
       "      <td>50900.0</td>\n",
       "      <td>50900.0</td>\n",
       "      <td>45301.070312</td>\n",
       "      <td>16128305</td>\n",
       "    </tr>\n",
       "    <tr>\n",
       "      <th>2018-05-10</th>\n",
       "      <td>51700.0</td>\n",
       "      <td>51700.0</td>\n",
       "      <td>50600.0</td>\n",
       "      <td>51600.0</td>\n",
       "      <td>45924.074219</td>\n",
       "      <td>13905263</td>\n",
       "    </tr>\n",
       "    <tr>\n",
       "      <th>2018-05-11</th>\n",
       "      <td>52000.0</td>\n",
       "      <td>52200.0</td>\n",
       "      <td>51200.0</td>\n",
       "      <td>51300.0</td>\n",
       "      <td>45657.074219</td>\n",
       "      <td>10314997</td>\n",
       "    </tr>\n",
       "    <tr>\n",
       "      <th>2018-05-14</th>\n",
       "      <td>51000.0</td>\n",
       "      <td>51100.0</td>\n",
       "      <td>49900.0</td>\n",
       "      <td>50100.0</td>\n",
       "      <td>44589.062500</td>\n",
       "      <td>14909272</td>\n",
       "    </tr>\n",
       "    <tr>\n",
       "      <th>2018-05-15</th>\n",
       "      <td>50200.0</td>\n",
       "      <td>50400.0</td>\n",
       "      <td>49100.0</td>\n",
       "      <td>49200.0</td>\n",
       "      <td>43788.078125</td>\n",
       "      <td>18709146</td>\n",
       "    </tr>\n",
       "    <tr>\n",
       "      <th>2018-05-16</th>\n",
       "      <td>49200.0</td>\n",
       "      <td>50200.0</td>\n",
       "      <td>49150.0</td>\n",
       "      <td>49850.0</td>\n",
       "      <td>44366.570312</td>\n",
       "      <td>15918683</td>\n",
       "    </tr>\n",
       "    <tr>\n",
       "      <th>2018-05-17</th>\n",
       "      <td>50300.0</td>\n",
       "      <td>50500.0</td>\n",
       "      <td>49400.0</td>\n",
       "      <td>49400.0</td>\n",
       "      <td>43966.066406</td>\n",
       "      <td>10365440</td>\n",
       "    </tr>\n",
       "    <tr>\n",
       "      <th>2018-05-18</th>\n",
       "      <td>49900.0</td>\n",
       "      <td>49900.0</td>\n",
       "      <td>49350.0</td>\n",
       "      <td>49500.0</td>\n",
       "      <td>44055.074219</td>\n",
       "      <td>6706570</td>\n",
       "    </tr>\n",
       "  </tbody>\n",
       "</table>\n",
       "</div>"
      ],
      "text/plain": [
       "               Open     High      Low    Close     Adj Close    Volume\n",
       "Date                                                                  \n",
       "2018-05-04  53000.0  53900.0  51800.0  51900.0  46191.066406  39565391\n",
       "2018-05-08  52600.0  53200.0  51900.0  52600.0  46814.070312  23104720\n",
       "2018-05-09  52600.0  52800.0  50900.0  50900.0  45301.070312  16128305\n",
       "2018-05-10  51700.0  51700.0  50600.0  51600.0  45924.074219  13905263\n",
       "2018-05-11  52000.0  52200.0  51200.0  51300.0  45657.074219  10314997\n",
       "2018-05-14  51000.0  51100.0  49900.0  50100.0  44589.062500  14909272\n",
       "2018-05-15  50200.0  50400.0  49100.0  49200.0  43788.078125  18709146\n",
       "2018-05-16  49200.0  50200.0  49150.0  49850.0  44366.570312  15918683\n",
       "2018-05-17  50300.0  50500.0  49400.0  49400.0  43966.066406  10365440\n",
       "2018-05-18  49900.0  49900.0  49350.0  49500.0  44055.074219   6706570"
      ]
     },
     "execution_count": 3,
     "metadata": {},
     "output_type": "execute_result"
    }
   ],
   "source": [
    "sec.head(10)"
   ]
  },
  {
   "cell_type": "code",
   "execution_count": 9,
   "id": "dd829cfc-16fc-479c-ada1-d74a6cbdd407",
   "metadata": {},
   "outputs": [
    {
     "data": {
      "text/plain": [
       "Date\n",
       "2018-05-04    51900.0\n",
       "2018-05-08    52600.0\n",
       "2018-05-09    50900.0\n",
       "2018-05-10    51600.0\n",
       "2018-05-11    51300.0\n",
       "               ...   \n",
       "2022-01-24    75100.0\n",
       "2022-01-25    74000.0\n",
       "2022-01-26    74000.0\n",
       "2022-01-27    71300.0\n",
       "2022-01-28    73300.0\n",
       "Name: Close, Length: 921, dtype: float64"
      ]
     },
     "execution_count": 9,
     "metadata": {},
     "output_type": "execute_result"
    }
   ],
   "source": [
    "sec['Close']"
   ]
  },
  {
   "cell_type": "code",
   "execution_count": 10,
   "id": "642e0680-82db-46f8-a74c-8db337b849f7",
   "metadata": {},
   "outputs": [
    {
     "data": {
      "text/plain": [
       "Date\n",
       "2018-05-04        NaN\n",
       "2018-05-08    51900.0\n",
       "2018-05-09    52600.0\n",
       "2018-05-10    50900.0\n",
       "2018-05-11    51600.0\n",
       "               ...   \n",
       "2022-01-24    75600.0\n",
       "2022-01-25    75100.0\n",
       "2022-01-26    74000.0\n",
       "2022-01-27    74000.0\n",
       "2022-01-28    71300.0\n",
       "Name: Close, Length: 921, dtype: float64"
      ]
     },
     "execution_count": 10,
     "metadata": {},
     "output_type": "execute_result"
    }
   ],
   "source": [
    "sec['Close'].shift(1)"
   ]
  },
  {
   "cell_type": "code",
   "execution_count": 11,
   "id": "6221eda5-345b-4f4f-a3a9-99b4fc052d65",
   "metadata": {},
   "outputs": [
    {
     "data": {
      "text/plain": [
       "Date\n",
       "2018-05-04    0.000000\n",
       "2018-05-08    1.348748\n",
       "2018-05-09   -3.231939\n",
       "2018-05-10    1.375246\n",
       "2018-05-11   -0.581395\n",
       "                ...   \n",
       "2022-01-24   -0.661376\n",
       "2022-01-25   -1.464714\n",
       "2022-01-26    0.000000\n",
       "2022-01-27   -3.648649\n",
       "2022-01-28    2.805049\n",
       "Name: Close, Length: 921, dtype: float64"
      ]
     },
     "execution_count": 11,
     "metadata": {},
     "output_type": "execute_result"
    }
   ],
   "source": [
    "sec_dpc"
   ]
  },
  {
   "cell_type": "code",
   "execution_count": 8,
   "id": "f1026c00-dec8-48b7-b11e-480b1d4917b4",
   "metadata": {},
   "outputs": [
    {
     "data": {
      "text/plain": [
       "Date\n",
       "2018-05-04    0.000000\n",
       "2018-05-08    1.348748\n",
       "2018-05-09   -1.926782\n",
       "2018-05-10   -0.578035\n",
       "2018-05-11   -1.156069\n",
       "2018-05-14   -3.468208\n",
       "2018-05-15   -5.202312\n",
       "2018-05-16   -3.949904\n",
       "2018-05-17   -4.816956\n",
       "2018-05-18   -4.624277\n",
       "Name: Close, dtype: float64"
      ]
     },
     "execution_count": 8,
     "metadata": {},
     "output_type": "execute_result"
    }
   ],
   "source": [
    "# 일간 변동율을 이용\n",
    "sec_dpc_cp.head(10)"
   ]
  },
  {
   "cell_type": "code",
   "execution_count": 6,
   "id": "9700238b-97f8-4d58-8e62-773874eb1c1c",
   "metadata": {},
   "outputs": [
    {
     "data": {
      "image/png": "[encoded data removed]",
      "text/plain": [
       "<Figure size 432x288 with 1 Axes>"
      ]
     },
     "metadata": {
      "needs_background": "light"
     },
     "output_type": "display_data"
    }
   ],
   "source": [
    "import matplotlib.pyplot as plt\n",
    "plt.plot(sec.index, sec_dpc_cp, 'b', label='Samsung Electronics')\n",
    "plt.plot(msft.index, msft_dpc_cp, 'r--', label='Microsoft')\n",
    "plt.ylabel('Change %') \n",
    "plt.grid(True)\n",
    "plt.legend(loc='best')\n",
    "plt.show()"
   ]
  },
  {
   "cell_type": "markdown",
   "id": "409e46a6-ede4-465a-8251-58dfc2ce761c",
   "metadata": {},
   "source": [
    "### 그래프가 말하고자 하는 것\n",
    "1. 2018년 5월 4일에 삼성전자에 투자했다면 약 10%의 손실\n",
    "2. 같은 기간 동안 MS에 투자했다면 48%의 수익"
   ]
  },
  {
   "cell_type": "code",
   "execution_count": null,
   "id": "50bfff73-32e1-4d26-85dd-ab02ffd051ad",
   "metadata": {},
   "outputs": [],
   "source": []
  }
 ],
 "metadata": {
  "kernelspec": {
   "display_name": "Python 3 (ipykernel)",
   "language": "python",
   "name": "python3"
  },
  "language_info": {
   "codemirror_mode": {
    "name": "ipython",
    "version": 3
   },
   "file_extension": ".py",
   "mimetype": "text/x-python",
   "name": "python",
   "nbconvert_exporter": "python",
   "pygments_lexer": "ipython3",
   "version": "3.8.10"
  }
 },
 "nbformat": 4,
 "nbformat_minor": 5
}
